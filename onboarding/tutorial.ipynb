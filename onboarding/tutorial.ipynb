{
 "cells": [
  {
   "attachments": {},
   "cell_type": "markdown",
   "metadata": {},
   "source": [
    "# Onboarding Tutorial\n",
    "\n",
    "This tutorial will take you through the core concepts of Flyte."
   ]
  },
  {
   "cell_type": "markdown",
   "metadata": {},
   "source": [
    "## Introduction"
   ]
  },
  {
   "attachments": {},
   "cell_type": "markdown",
   "metadata": {},
   "source": [
    "### Environment Setup\n",
    "\n",
    "Follow the instructions in the [setup instructions](./README.md#setup) of\n",
    "the README."
   ]
  },
  {
   "cell_type": "markdown",
   "metadata": {},
   "source": [
    "### Example 0: Flyte Basics\n",
    "\n",
    "Let's take a look at the [first example](./workflows/example_00_intro.py).\n",
    "\n",
    "In it, you'll see a simple pipeline that uses the penguins dataset to train a\n",
    "penguin species classifier. You can run this workflow locally with:\n",
    "\n",
    "```\n",
    "python workflows/example_00_intro.py\n",
    "```"
   ]
  },
  {
   "attachments": {},
   "cell_type": "markdown",
   "metadata": {},
   "source": [
    "#### Exercise: Understanding Workflows\n",
    "\n",
    "Workflows are basically a domain-specific language (DSL) that builds an\n",
    "execution graph that uses tasks as the building blocks for more complex pipelines.\n",
    "\n",
    "Insert a debugging breakpoint `import pdb; pdb.set_trace()` right before the\n",
    "return statement of the `training_workflow` function in the `example_00_intro.py`\n",
    "script and rerun it. Take a look at all the variables in the `training_workflow`\n",
    "like `data` and `model`. What data type is it?"
   ]
  },
  {
   "attachments": {},
   "cell_type": "markdown",
   "metadata": {},
   "source": [
    "#### Running a Workflow\n",
    "\n",
    "Use `pyflyte run` to run the workflow on a Python runtime:\n",
    "\n",
    "```bash\n",
    "pyflyte run workflows/example_00_intro.py training_workflow \\\n",
    "    --hyperparameters '{\"C\": 0.01, \"max_iter\": 5000}'\n",
    "```\n",
    "\n",
    "Then supply the `--config`, `--remote`, and `--image` flags to run it on a\n",
    "remote Flyte cluster:\n",
    "\n",
    "```bash\n",
    "export IMAGE='ghcr.io/unionai-oss/union-cloud-templates:onboarding-latest'\n",
    "pyflyte --config ~/.uctl/config.yaml \\\n",
    "    run --remote \\\n",
    "    --image $IMAGE \\\n",
    "    workflows/example_00_intro.py training_workflow \\\n",
    "    --hyperparameters '{\"C\": 0.01, \"max_iter\": 5000}'\n",
    "```"
   ]
  },
  {
   "attachments": {},
   "cell_type": "markdown",
   "metadata": {},
   "source": [
    "#### Registering Your Workflow\n",
    "\n",
    "Once you're happy with the state of your tasks and workflows, you can register\n",
    "them by first packaging them up into a portable flyte archive:\n",
    "\n",
    "```bash\n",
    "pyflyte --pkgs workflows package --image $IMAGE -f\n",
    "```\n",
    "\n",
    "This will create a `flyte-package.tgz` archive file that contains the serialized\n",
    "tasks and workflows in this project. Then, you can register it with:\n",
    "\n",
    "```bash\n",
    "~/bin/uctl --config ~/.uctl/config.yaml register files --project flytesnacks --domain development --archive flyte-package.tgz --version v0\n",
    "```\n",
    "\n",
    "Now we can go over to https://sandbox.union.ai/console\n",
    "(or http://localhost:30080/console if you're using a local Flyte cluster) to\n",
    "check out the tasks and workflows we just registered."
   ]
  },
  {
   "cell_type": "code",
   "execution_count": null,
   "metadata": {},
   "outputs": [],
   "source": [
    "from workflows import example_00_intro\n",
    "from workflows.example_00_intro import Hyperparameters\n",
    "from workflows.utils import get_remote\n",
    "\n",
    "remote = get_remote()\n",
    "execution = remote.execute_local_workflow(\n",
    "    example_00_intro.training_workflow,\n",
    "    inputs={\n",
    "        \"hyperparameters\": Hyperparameters(C=0.1, max_iter=5000),\n",
    "        \"test_size\": 0.2,\n",
    "        \"random_state\": 11,\n",
    "    }\n",
    ")\n",
    "remote.generate_console_url(execution)"
   ]
  },
  {
   "cell_type": "code",
   "execution_count": null,
   "metadata": {},
   "outputs": [],
   "source": [
    "execution = remote.wait(execution)"
   ]
  },
  {
   "cell_type": "markdown",
   "metadata": {},
   "source": [
    "#### Scheduling Launchplans"
   ]
  },
  {
   "cell_type": "markdown",
   "metadata": {},
   "source": [
    "Activate the schedule:"
   ]
  },
  {
   "cell_type": "code",
   "execution_count": null,
   "metadata": {},
   "outputs": [],
   "source": [
    "from workflows.utils import get_remote\n",
    "\n",
    "remote = get_remote()\n",
    "lp_id = remote.fetch_launch_plan(name=\"scheduled_training_workflow\").id\n",
    "remote.client.update_launch_plan(lp_id, \"ACTIVE\")\n",
    "print(\"activated scheduled_training_workflow\")"
   ]
  },
  {
   "cell_type": "markdown",
   "metadata": {},
   "source": [
    "Get the execution for the most recent schedule run."
   ]
  },
  {
   "cell_type": "code",
   "execution_count": null,
   "metadata": {},
   "outputs": [],
   "source": [
    "recent_executions = [\n",
    "    execution\n",
    "    for execution in remote.recent_executions()\n",
    "    if execution.spec.launch_plan.name == \"scheduled_training_workflow\"\n",
    "]\n",
    "\n",
    "scheduled_execution = None\n",
    "model = None\n",
    "if recent_executions:\n",
    "    scheduled_execution = recent_executions[0]\n",
    "    \n",
    "print(scheduled_execution)"
   ]
  },
  {
   "cell_type": "markdown",
   "metadata": {},
   "source": [
    "Now deactivate the schedule"
   ]
  },
  {
   "cell_type": "code",
   "execution_count": null,
   "metadata": {},
   "outputs": [],
   "source": [
    "remote.client.update_launch_plan(lp_id, \"INACTIVE\")\n",
    "print(\"deactivated scheduled_training_workflow\")"
   ]
  },
  {
   "attachments": {},
   "cell_type": "markdown",
   "metadata": {},
   "source": [
    "#### `pyflyte register`\n",
    "\n",
    "Flyte support rapid iteration during development via \"fast registration\" via\n",
    "`pyflyte register`. This This zips up all of the source code of your Flyte \n",
    "application and bypasses the need to re-build a docker image.\n",
    "\n",
    "```\n",
    "pyflyte register --project onboarding --domain development --image $IMAGE workflows\n",
    "```\n",
    "\n",
    "Now go back the Flyte console and take a look at one of the workflows. You'll\n",
    "see our fast-registered version under the **Recent Workflow Versions** panel."
   ]
  },
  {
   "cell_type": "markdown",
   "metadata": {},
   "source": [
    "## Scalability"
   ]
  },
  {
   "cell_type": "markdown",
   "metadata": {},
   "source": [
    "### Example 1: Dynamic Workflows\n",
    "\n",
    "Dynamic workflows allow you to create execution graphs on the fly. This allows\n",
    "you to specify for loops over inputs to implement a grid search model tuning\n",
    "workflow."
   ]
  },
  {
   "cell_type": "code",
   "execution_count": null,
   "metadata": {},
   "outputs": [],
   "source": [
    "from workflows import example_01_dynamic\n",
    "from workflows.utils import get_remote\n",
    "\n",
    "remote = get_remote()\n",
    "execution = remote.execute_local_workflow(\n",
    "    example_01_dynamic.tuning_workflow,\n",
    "    inputs={\n",
    "        \"hyperparam_grid\": [\n",
    "            Hyperparameters(C=1.0, max_iter=5000),\n",
    "            Hyperparameters(C=0.1, max_iter=5000),\n",
    "            Hyperparameters(C=0.01, max_iter=5000),\n",
    "            Hyperparameters(C=0.001, max_iter=5000),\n",
    "        ],\n",
    "    }\n",
    ")\n",
    "remote.generate_console_url(execution)"
   ]
  },
  {
   "cell_type": "markdown",
   "metadata": {},
   "source": [
    "### Example 2: Map Tasks\n",
    "\n",
    "Map tasks enable larger fan-outs of embarrassingly parallel computations compared\n",
    "to dynamic workflows."
   ]
  },
  {
   "cell_type": "code",
   "execution_count": null,
   "metadata": {},
   "outputs": [],
   "source": [
    "from workflows import example_02_map_task\n",
    "from workflows.example_00_intro import Hyperparameters\n",
    "from workflows.utils import get_remote\n",
    "\n",
    "remote = get_remote()\n",
    "execution = remote.execute_local_workflow(\n",
    "    example_02_map_task.tuning_workflow,\n",
    "    inputs={\n",
    "        \"hyperparam_grid\": [\n",
    "            Hyperparameters(C=1.0, max_iter=1000),\n",
    "            Hyperparameters(C=0.1, max_iter=1000),\n",
    "            Hyperparameters(C=0.01, max_iter=1000),\n",
    "            Hyperparameters(C=0.001, max_iter=1000),\n",
    "        ],\n",
    "    }\n",
    ")\n",
    "print(remote.generate_console_url(execution))"
   ]
  },
  {
   "cell_type": "markdown",
   "metadata": {},
   "source": [
    "### Example 3: Plugins\n",
    "\n",
    "Flyte has a plugin system that lets you integrate with a wide variety of\n",
    "data and machine learning tools that help you to scale, like BigQuery,\n",
    "Pyspark, and Ray."
   ]
  },
  {
   "cell_type": "code",
   "execution_count": null,
   "metadata": {},
   "outputs": [],
   "source": [
    "from workflows import example_03_plugins\n",
    "from workflows.utils import get_remote\n",
    "\n",
    "remote = get_remote()\n",
    "execution = remote.execute_local_workflow(\n",
    "    example_03_plugins.training_workflow,\n",
    "    inputs={\n",
    "        \"n_epochs\": 50,\n",
    "        \"hyperparameters\": example_03_plugins.Hyperparameters(\n",
    "            in_dim=4, hidden_dim=100, out_dim=3, learning_rate=0.03\n",
    "        ),\n",
    "    }\n",
    ")\n",
    "print(remote.generate_console_url(execution))"
   ]
  },
  {
   "cell_type": "markdown",
   "metadata": {},
   "source": [
    "## Data Quality"
   ]
  },
  {
   "cell_type": "markdown",
   "metadata": {},
   "source": [
    "### Example 4: Type System"
   ]
  },
  {
   "attachments": {},
   "cell_type": "markdown",
   "metadata": {},
   "source": [
    "The Flyte type system is responsible for a lot of Flyte's magic: Flyte uses\n",
    "the regular Python type hints to automatically serialize outputs of tasks\n",
    "and deserialize inputs of tasks from Flyte's native serialization format,\n",
    "including handling the off-loading of tabular data like `pandas.DataFrame`\n",
    "objects.\n",
    "\n",
    "A nice consequence of this is that Flyte can also analyze the execution graph\n",
    "that's built at compile-time and raise errors.\n",
    "\n",
    "Take a look at [example_04_type_system.py](./workflows/example_04_type_system.py).\n",
    "Try changing the output signature of `get_data` from `pd.DataFrame` to `dict`\n",
    "and to fast register it:\n",
    "\n",
    "```\n",
    "pyflyte register --project flytesnacks --domain development --image $IMAGE workflows\n",
    "```\n",
    "\n",
    "What error do you see?\n",
    "\n",
    "Then you can revert it to the correct implementation and run it again:"
   ]
  },
  {
   "cell_type": "code",
   "execution_count": null,
   "metadata": {},
   "outputs": [],
   "source": [
    "from workflows import example_04_type_system\n",
    "from workflows.utils import get_remote\n",
    "\n",
    "remote = get_remote()\n",
    "execution = remote.execute_local_workflow(\n",
    "    example_04_type_system.get_splits,\n",
    "    inputs={\"test_size\": 0.2, \"random_state\": 123},\n",
    ")\n",
    "print(remote.generate_console_url(execution))"
   ]
  },
  {
   "cell_type": "markdown",
   "metadata": {},
   "source": [
    "### Example 5: DataFrame Types\n",
    "\n",
    "Pandera is a data validation tool for dataframe-like objects. In\n",
    "[example_05_pandera_types.py](./workflows/example_05_pandera_types.py), we define\n",
    "a pandera schema that validates the output of `get_data` as well as the DataFrame\n",
    "input of `split_data` at runtime.\n",
    "\n",
    "#### Exercise\n",
    "\n",
    "- Uncomment line 49 in the `example_05_pandera_types.py`\n",
    "- Fast register your workflows then run the cell below. What error do you see?\n",
    "- Bonus: comment the offending line and fast register the workflows again.\n",
    "  Re-run the cell again... what do you see?"
   ]
  },
  {
   "cell_type": "code",
   "execution_count": null,
   "metadata": {},
   "outputs": [],
   "source": [
    "from workflows import example_05_pandera_types\n",
    "from workflows.utils import get_remote\n",
    "\n",
    "remote = get_remote()\n",
    "execution = remote.execute_local_workflow(\n",
    "    example_05_pandera_types.get_splits,\n",
    "    inputs={\"test_size\": 0.2},\n",
    ")\n",
    "print(remote.generate_console_url(execution))"
   ]
  },
  {
   "cell_type": "markdown",
   "metadata": {},
   "source": [
    "## Reproducibility"
   ]
  },
  {
   "cell_type": "markdown",
   "metadata": {},
   "source": [
    "### Example 6: Reproducibility\n",
    "\n",
    "Next, we'll learn about multiple levels of reproducibility:\n",
    "\n",
    "- **Environment-level reproducibility**: As you can see in the\n",
    "  [Dockerfile](./Dockerfile), we're containerizing our Flyte application to\n",
    "  capture a snapshot of all the dependencies that your tasks and workflows rely on.\n",
    "- **Code-level reproducibility**: In [example_06_reproducibility.py](./workflows/example_06_reproducibility.py)\n",
    "  we take care of setting a random seed for our model. This is a common practice \n",
    "  but an important one to remember!\n",
    "- **Resource-level reproducibility**: Finally, as you've seen previously we can\n",
    "  declare the compute and memory requirements of our pipeline at the task-level.\n",
    "\n",
    "Combined with built-in versioning for all tasks, workflows, launchplans, and\n",
    "executions, Flyte gives you the ability to roll back/forward to previous versions\n",
    "of any of these entities. Flyte tasks/workflows are sort of like hermetically-sealed\n",
    "containers that are guaranteed to produce the same output (error or not) given\n",
    "the same input."
   ]
  },
  {
   "cell_type": "code",
   "execution_count": null,
   "metadata": {},
   "outputs": [],
   "source": [
    "from workflows import example_06_reproducibility\n",
    "from workflows.utils import get_remote\n",
    "\n",
    "remote = get_remote()\n",
    "\n",
    "for i in range(3):\n",
    "    execution = remote.execute_local_workflow(\n",
    "        example_06_reproducibility.training_workflow,\n",
    "        inputs={\n",
    "            \"hyperparameters\": example_06_reproducibility.Hyperparameters(\n",
    "                penalty=\"l2\", alpha=0.001, random_state=42,\n",
    "            )\n",
    "        },\n",
    "    )\n",
    "    print(f\"Execution {i}: {remote.generate_console_url(execution)}\")"
   ]
  },
  {
   "cell_type": "markdown",
   "metadata": {},
   "source": [
    "## Recoverability"
   ]
  },
  {
   "cell_type": "markdown",
   "metadata": {},
   "source": [
    "### Example 7: Caching\n",
    "\n",
    "In [example_07_caching.py](./workflows/example_07_caching.py), we revisit the model-tuning use case using `@dynamic` workflows,\n",
    "showing how caching can help reduce wasted compute."
   ]
  },
  {
   "cell_type": "code",
   "execution_count": null,
   "metadata": {},
   "outputs": [],
   "source": [
    "from workflows import example_07_caching\n",
    "from workflows.example_06_reproducibility import Hyperparameters\n",
    "from workflows.utils import get_remote\n",
    "\n",
    "remote = get_remote()\n",
    "hyperparam_grid = [\n",
    "    Hyperparameters(alpha=alpha)\n",
    "    for alpha in [10.0, 1.0, 0.1, 0.01, 0.001, 0.0001]\n",
    "]\n",
    "execution = remote.execute_local_workflow(\n",
    "    example_07_caching.tuning_workflow,\n",
    "    inputs={\"hyperparam_grid\": hyperparam_grid}\n",
    ")\n",
    "print(remote.generate_console_url(execution))"
   ]
  },
  {
   "attachments": {},
   "cell_type": "markdown",
   "metadata": {},
   "source": [
    "Once the execution is completed, re-run the workflow with the same inputs in the\n",
    "cell below. In the Union Cloud console you'll see a **checkmark icon 🔄** next to\n",
    "the task execution status, indicating that the output of the execution was\n",
    "taken from the cache."
   ]
  },
  {
   "cell_type": "code",
   "execution_count": null,
   "metadata": {},
   "outputs": [],
   "source": [
    "execution = remote.execute_local_workflow(\n",
    "    example_07_caching.tuning_workflow,\n",
    "    inputs={\"hyperparam_grid\": hyperparam_grid}\n",
    ")\n",
    "print(remote.generate_console_url(execution))"
   ]
  },
  {
   "cell_type": "markdown",
   "metadata": {},
   "source": [
    "### Example 8: Recovering Failed Executions\n",
    "\n",
    "In [example_08_recover_executions.py](./workflows/example_08_recover_executions.py), we see how Flyte\n",
    "provides a mechanism by which you can automatically recover from unexpected failures."
   ]
  },
  {
   "cell_type": "code",
   "execution_count": null,
   "metadata": {},
   "outputs": [],
   "source": [
    "from workflows import example_08_recover_executions\n",
    "from workflows.utils import get_remote\n",
    "\n",
    "remote = get_remote()\n",
    "execution = remote.execute_local_workflow(\n",
    "    example_08_recover_executions.tuning_workflow,\n",
    "    inputs={\"alpha_grid\": [100.0, 10.0, 1.0, 0.1, 0.01, 0.001, 0.0001, 0.00001]}\n",
    ")\n",
    "print(remote.generate_console_url(execution))"
   ]
  },
  {
   "cell_type": "markdown",
   "metadata": {},
   "source": [
    "### Example 9: Checkpointing\n",
    "\n",
    "In [example_09_checkpointing.py](./workflows/example_09_checkpointing.py), we\n",
    "learn about how you can do intra-task checkpoints natively in Flyte to pick\n",
    "up from where you left off in, e.g., a model training task."
   ]
  },
  {
   "cell_type": "code",
   "execution_count": null,
   "metadata": {},
   "outputs": [],
   "source": [
    "from workflows import example_09_checkpointing\n",
    "from workflows.example_06_reproducibility import Hyperparameters\n",
    "from workflows.utils import get_remote\n",
    "\n",
    "remote = get_remote()\n",
    "execution = remote.execute_local_workflow(\n",
    "    example_09_checkpointing.training_workflow,\n",
    "    inputs={\n",
    "        \"n_epochs\": 30,\n",
    "        \"hyperparameters\": Hyperparameters(penalty=\"l1\", random_state=42),\n",
    "    }\n",
    ")\n",
    "print(remote.generate_console_url(execution))\n",
    "execution = remote.wait(execution)"
   ]
  },
  {
   "cell_type": "markdown",
   "metadata": {},
   "source": [
    "## Auditability"
   ]
  },
  {
   "cell_type": "markdown",
   "metadata": {},
   "source": [
    "### Example 10: Visiualization with Flyte Decks\n",
    "\n",
    "In [example_10_flyte_decks.py](./workflows/example_10_flyte_decks.py) we\n",
    "create tasks that produce static html reports that help you understand the\n",
    "inputs/outputs of your tasks."
   ]
  },
  {
   "cell_type": "code",
   "execution_count": null,
   "metadata": {},
   "outputs": [],
   "source": [
    "from workflows import example_10_flyte_decks\n",
    "\n",
    "remote = get_remote()\n",
    "execution = remote.execute_local_workflow(\n",
    "    example_10_flyte_decks.penguins_data_workflow,\n",
    "    inputs={},\n",
    ")\n",
    "print(remote.generate_console_url(execution))"
   ]
  },
  {
   "cell_type": "markdown",
   "metadata": {},
   "source": [
    "### Example 11: Extending Flyte Decks\n",
    "\n",
    "Flyte decks can be easily extended to support any arbitrary visualization, as\n",
    "we can see in [example_11_extend_flyte_decks.py](./workflows/example_11_extend_flyte_decks.py)\n",
    "\n",
    "#### Exercise\n",
    "\n",
    "Come up with a visualization for one of inputs or outputs of any of the tasks\n",
    "in `example_11_extend_flyte_decks.py`, and create a custom Flyte deck for it."
   ]
  },
  {
   "cell_type": "code",
   "execution_count": null,
   "metadata": {},
   "outputs": [],
   "source": [
    "from workflows import example_11_extend_flyte_decks\n",
    "from workflows.example_06_reproducibility import Hyperparameters\n",
    "\n",
    "remote = get_remote()\n",
    "execution = remote.execute_local_workflow(\n",
    "    example_11_extend_flyte_decks.training_workflow,\n",
    "    inputs={\n",
    "        \"hyperparameters\": Hyperparameters(\n",
    "            penalty=\"l1\", alpha=0.03, random_state=12345\n",
    "        )\n",
    "    },\n",
    ")\n",
    "print(remote.generate_console_url(execution))"
   ]
  }
 ],
 "metadata": {
  "kernelspec": {
   "display_name": "ucloud-onboarding",
   "language": "python",
   "name": "python3"
  },
  "language_info": {
   "codemirror_mode": {
    "name": "ipython",
    "version": 3
   },
   "file_extension": ".py",
   "mimetype": "text/x-python",
   "name": "python",
   "nbconvert_exporter": "python",
   "pygments_lexer": "ipython3",
   "version": "3.9.1 (default, Dec 11 2020, 06:28:49) \n[Clang 10.0.0 ]"
  },
  "vscode": {
   "interpreter": {
    "hash": "d2fe4107dcc8bcb38d72bc882c163cab818c484f1874eaaf3d8bb8bec93b2603"
   }
  }
 },
 "nbformat": 4,
 "nbformat_minor": 2
}
